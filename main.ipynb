{
 "cells": [
  {
   "cell_type": "markdown",
   "metadata": {},
   "source": [
    "# Mini Project: Monte Carlo Simulation for Financial Risk Assessment\n",
    "\n",
    "## Objective\n",
    "\n",
    "This mini-project will guide students through the implementation of a Monte Carlo simulation to estimate financial risk using advanced random number generation techniques. By completing this project, students will apply pseudo-random and quasi-random numbers, variance reduction methods, and numerical approximations to assess the Value at Risk (VaR) of a portfolio.\n",
    "\n",
    "## Problem Statement\n",
    "\n",
    "You are a quantitative analyst working for a financial institution. Your task is to estimate the Value at Risk (VaR) of a stock portfolio using Monte Carlo simulations. The risk estimation should incorporate techniques such as:\n",
    "\n",
    "- Pseudo-random and quasi-random number generation\n",
    "- Antithetic variance reduction\n",
    "- Taylor series approximations\n",
    "- Convergence analysis\n",
    "\n",
    "## Steps to Complete the Project\n"
   ]
  },
  {
   "cell_type": "markdown",
   "metadata": {},
   "source": [
    "\n",
    "### Step 1: Data Initialization\n",
    "\n",
    "1. Simulate the daily return of a stock using a normal distribution with a given mean and standard deviation.\n",
    "2. Implement a pseudo-random number generator (PRNG) to generate these stock returns.\n",
    "3. Compare the output with a quasi-random number generator (QRNG) using a Sobol sequence.\n"
   ]
  },
  {
   "cell_type": "markdown",
   "metadata": {},
   "source": [
    "The formula for daily returns is:\n",
    " $$r_t = \\mu + \\sigma \\cdot Z$$\n",
    "Where:\n",
    "* $r_t =$ daily return at time $t$\n",
    "* $\\mu =$ mean return\n",
    "* $\\sigma =$ standard deviation of returns\n",
    "* $Z =$ random variable form a standard normal distribution"
   ]
  },
  {
   "cell_type": "code",
   "execution_count": null,
   "metadata": {},
   "outputs": [
    {
     "ename": "ModuleNotFoundError",
     "evalue": "No module named 'numpy'",
     "output_type": "error",
     "traceback": [
      "\u001b[1;31m---------------------------------------------------------------------------\u001b[0m",
      "\u001b[1;31mModuleNotFoundError\u001b[0m                       Traceback (most recent call last)",
      "Cell \u001b[1;32mIn[1], line 1\u001b[0m\n\u001b[1;32m----> 1\u001b[0m \u001b[38;5;28;01mimport\u001b[39;00m\u001b[38;5;250m \u001b[39m\u001b[38;5;21;01mnumpy\u001b[39;00m\u001b[38;5;250m \u001b[39m\u001b[38;5;28;01mas\u001b[39;00m\u001b[38;5;250m \u001b[39m\u001b[38;5;21;01mnp\u001b[39;00m\n\u001b[0;32m      2\u001b[0m \u001b[38;5;28;01mimport\u001b[39;00m\u001b[38;5;250m \u001b[39m\u001b[38;5;21;01mmatplotlib\u001b[39;00m\u001b[38;5;21;01m.\u001b[39;00m\u001b[38;5;21;01mpyplot\u001b[39;00m\u001b[38;5;250m \u001b[39m\u001b[38;5;28;01mas\u001b[39;00m\u001b[38;5;250m \u001b[39m\u001b[38;5;21;01mplt\u001b[39;00m\n\u001b[0;32m      3\u001b[0m \u001b[38;5;28;01mfrom\u001b[39;00m\u001b[38;5;250m \u001b[39m\u001b[38;5;21;01mscipy\u001b[39;00m\u001b[38;5;21;01m.\u001b[39;00m\u001b[38;5;21;01mstats\u001b[39;00m\u001b[38;5;250m \u001b[39m\u001b[38;5;28;01mimport\u001b[39;00m qmc\n",
      "\u001b[1;31mModuleNotFoundError\u001b[0m: No module named 'numpy'"
     ]
    }
   ],
   "source": [
    "import numpy as np\n",
    "import matplotlib.pyplot as plt\n",
    "from scipy.stats import qmc, norm\n",
    "\n",
    "mu = 0.001  # Mean daily return \n",
    "sigma = 0.02  # Standard deviation of daily returns \n",
    "n_samples = 1000  # Number of samples to generate\n",
    "\n",
    "# Daily returns - PRNG \n",
    "prng_returns = np.random.normal(mu, sigma, n_samples)\n",
    "\n",
    "# Daily returns - QRNG \n",
    "sobol_engine = qmc.Sobol(d=1, scramble=True)  # d=1 for 1-dimensional sequence\n",
    "sobol_samples = sobol_engine.random(n_samples)\n",
    "# Transform Sobol samples to normal distribution using inverse CDF\n",
    "qrng_returns = mu + sigma * norm.ppf(sobol_samples).flatten()\n",
    "\n",
    "# Compare \n",
    "plt.figure(figsize=(12, 6))\n",
    "\n",
    "# Plot PRNG returns\n",
    "plt.subplot(1, 2, 1)\n",
    "plt.hist(prng_returns, bins=50, density=True, alpha=0.6, color='blue', label='PRNG Returns')\n",
    "plt.title('PRNG Returns')\n",
    "plt.xlabel('Daily Return')\n",
    "plt.ylabel('Density')\n",
    "plt.legend()\n",
    "\n",
    "# Plot QRNG returns\n",
    "plt.subplot(1, 2, 2)\n",
    "plt.hist(qrng_returns, bins=50, density=True, alpha=0.6, color='green', label='QRNG Returns')\n",
    "plt.title('QRNG Returns (Sobol Sequence)')\n",
    "plt.xlabel('Daily Return')\n",
    "plt.ylabel('Density')\n",
    "plt.legend()\n",
    "\n",
    "plt.tight_layout()\n",
    "plt.show()"
   ]
  },
  {
   "cell_type": "code",
   "execution_count": null,
   "metadata": {},
   "outputs": [],
   "source": [
    "plt.figure(figsize=(10, 6))\n",
    "plt.hist(prng_returns, bins=50, density=True, histtype='step', color='blue', label='PRNG Returns')\n",
    "plt.hist(qrng_returns, bins=50, density=True, histtype='step', color='green', label='QRNG Returns')\n",
    "plt.title('Comparison of PRNG and QRNG Returns (Border Lines)')\n",
    "plt.xlabel('Daily Return')\n",
    "plt.ylabel('Density')\n",
    "plt.legend()\n",
    "plt.show()"
   ]
  },
  {
   "cell_type": "markdown",
   "metadata": {},
   "source": [
    "\n",
    "### Step 2: Monte Carlo Simulation for Stock Price Evolution\n",
    "\n",
    "1. Simulate stock price paths using the Geometric Brownian Motion (GBM) model:\n",
    "\n",
    "   \n",
    "   $$S_t = S_0 \\exp\\left( (\\mu - \\frac{\\sigma^2}{2}) t + \\sigma W_t \\right)$$\n",
    "   \n",
    "\n",
    "   where $W_t$ is a Wiener process.\n",
    "\n",
    "2. Generate multiple stock price paths using both PRNG and QRNG methods.\n",
    "3. Visualize the simulated stock price paths.\n",
    "\n",
    "\n"
   ]
  },
  {
   "cell_type": "code",
   "execution_count": null,
   "metadata": {},
   "outputs": [],
   "source": [
    "S0 = 100  # Stock price\n",
    "T = 1  # 1 year\n",
    "n_steps = 252  # trading days in a year\n",
    "n_paths = 10  # Paths \n",
    "\n",
    "t = np.linspace(0, T, n_steps)\n",
    "\n",
    "# Simulate stock price - GBM\n",
    "def simulate_gbm(S0, mu, sigma, t, n_paths, use_qrng=False):\n",
    "    n_steps = len(t)\n",
    "    dt = t[1] - t[0]  # Time step size\n",
    "    paths = np.zeros((n_steps, n_paths))\n",
    "    paths[0, :] = S0 \n",
    "\n",
    "    if use_qrng:\n",
    "        # Sobol for QRNG\n",
    "        sobol_engine = qmc.Sobol(d=n_steps-1, scramble=True)\n",
    "        sobol_samples = sobol_engine.random(n_paths)\n",
    "        Z = norm.ppf(sobol_samples).T  # Transform to standard normal and transpose to match dimensions\n",
    "    else:\n",
    "        # PRNG\n",
    "        Z = np.random.normal(0, 1, (n_steps-1, n_paths))\n",
    "\n",
    "    for i in range(1, n_steps):\n",
    "        drift = (mu - 0.5 * sigma**2) * dt\n",
    "        diffusion = sigma * np.sqrt(dt) * Z[i-1, :]\n",
    "        paths[i, :] = paths[i-1, :] * np.exp(drift + diffusion)\n",
    "\n",
    "    return paths\n",
    "\n",
    "# PRNG\n",
    "prng_paths = simulate_gbm(S0, mu, sigma, t, n_paths, use_qrng=False)\n",
    "\n",
    "# QRNG\n",
    "qrng_paths = simulate_gbm(S0, mu, sigma, t, n_paths, use_qrng=True)\n",
    "\n",
    "plt.figure(figsize=(12, 6))\n",
    "\n",
    "# PRNG \n",
    "plt.subplot(1, 2, 1)\n",
    "for i in range(n_paths):\n",
    "    plt.plot(t, prng_paths[:, i], lw=1)\n",
    "plt.title('Stock Price Paths (PRNG)')\n",
    "plt.xlabel('Time (Years)')\n",
    "plt.ylabel('Stock Price')\n",
    "plt.grid(True)\n",
    "\n",
    "# Plot QRNG paths\n",
    "plt.subplot(1, 2, 2)\n",
    "for i in range(n_paths):\n",
    "    plt.plot(t, qrng_paths[:, i], lw=1)\n",
    "plt.title('Stock Price Paths (QRNG - Sobol)')\n",
    "plt.xlabel('Time (Years)')\n",
    "plt.ylabel('Stock Price')\n",
    "plt.grid(True)\n",
    "\n",
    "plt.tight_layout()\n",
    "plt.show()"
   ]
  },
  {
   "cell_type": "markdown",
   "metadata": {},
   "source": [
    "### Step 3: Estimating Value at Risk (VaR)\n",
    "\n",
    "1. Compute portfolio returns from the simulated stock prices.\n",
    "2. Estimate the 95% and 99% VaR using both historical simulation and Monte Carlo methods.\n",
    "3. Implement antithetic variance reduction to improve estimation accuracy.\n",
    "4. Compare VaR estimates using pseudo-random and quasi-random methods.\n",
    "\n"
   ]
  },
  {
   "cell_type": "markdown",
   "metadata": {},
   "source": [
    "### Step 4: Taylor Series Approximation for Risk Adjustment\n",
    "\n",
    "1. Use a second-order Taylor series expansion to approximate the portfolio's risk exposure.\n",
    "2. Analyze the effect of approximation on risk estimation.\n",
    "3. Compare results with the direct computation approach.\n",
    "\n"
   ]
  },
  {
   "cell_type": "markdown",
   "metadata": {},
   "source": [
    "### Step 5: Convergence Analysis and Final Report\n",
    "\n",
    "1. Study the convergence behavior of Monte Carlo estimates by increasing the number of simulations.\n",
    "2. Plot error vs. number of simulations to assess efficiency.\n",
    "3. Write a summary report discussing findings, methodology, and computational performance.\n",
    "\n"
   ]
  },
  {
   "cell_type": "markdown",
   "metadata": {},
   "source": [
    "## Rubric (Total: 100 Points)\n",
    "\n",
    "| Criteria | Excellent (20) | Good (15) | Fair (10) | Poor (5) |\n",
    "|----------|--------------|----------|---------|-------|\n",
    "| **Step 1: Data Initialization** | PRNG and QRNG correctly implemented and analyzed | Minor issues in implementation | Incomplete or incorrect implementation | Little to no effort |\n",
    "| **Step 2: Monte Carlo Stock Simulation** | GBM correctly simulated and visualized | Small inaccuracies | Major issues in simulation | No proper implementation |\n",
    "| **Step 3: VaR Estimation** | VaR correctly computed with all methods | Minor computational errors | Missing one key method | Poor implementation |\n",
    "| **Step 4: Taylor Series Approximation** | Taylor expansion correctly used and compared | Some approximation issues | Incorrect implementation | Not attempted |\n",
    "| **Step 5: Convergence Analysis & Report** | Convergence studied with clear insights | Minor inconsistencies in analysis | Weak discussion | No analysis provided |\n",
    "\n",
    "## Submission Guidelines\n",
    "\n",
    "- Submit a Jupyter Notebook (`.ipynb`) with well-commented code and visualizations.\n",
    "- Include a short report summarizing findings and observations.\n",
    "- Ensure reproducibility by setting random seeds where applicable.\n",
    "\n",
    "## Bonus Challenge\n",
    "\n",
    "- Implement a risk-adjusted portfolio optimization strategy using Monte Carlo results.\n",
    "- Compare performance with standard VaR estimation.\n",
    "\n",
    "This project provides a structured, hands-on experience in financial risk modeling using Monte Carlo simulations. It integrates multiple numerical techniques, ensuring practical application and computational efficiency."
   ]
  }
 ],
 "metadata": {
  "kernelspec": {
   "display_name": "Python 3",
   "language": "python",
   "name": "python3"
  },
  "language_info": {
   "codemirror_mode": {
    "name": "ipython",
    "version": 3
   },
   "file_extension": ".py",
   "mimetype": "text/x-python",
   "name": "python",
   "nbconvert_exporter": "python",
   "pygments_lexer": "ipython3",
   "version": "3.11.11"
  }
 },
 "nbformat": 4,
 "nbformat_minor": 2
}
