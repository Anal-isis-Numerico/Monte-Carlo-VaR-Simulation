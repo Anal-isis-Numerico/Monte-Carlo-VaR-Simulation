{
 "cells": [
  {
   "cell_type": "markdown",
   "metadata": {},
   "source": [
    "# Mini Project: Monte Carlo Simulation for Financial Risk Assessment\n",
    "\n",
    "## Objective\n",
    "\n",
    "This mini-project will guide students through the implementation of a Monte Carlo simulation to estimate financial risk using advanced random number generation techniques. By completing this project, students will apply pseudo-random and quasi-random numbers, variance reduction methods, and numerical approximations to assess the Value at Risk (VaR) of a portfolio.\n",
    "\n",
    "## Problem Statement\n",
    "\n",
    "You are a quantitative analyst working for a financial institution. Your task is to estimate the Value at Risk (VaR) of a stock portfolio using Monte Carlo simulations. The risk estimation should incorporate techniques such as:\n",
    "\n",
    "- Pseudo-random and quasi-random number generation\n",
    "- Antithetic variance reduction\n",
    "- Taylor series approximations\n",
    "- Convergence analysis\n",
    "\n",
    "## Steps to Complete the Project\n"
   ]
  },
  {
   "cell_type": "markdown",
   "metadata": {},
   "source": [
    "\n",
    "### Step 1: Data Initialization\n",
    "\n",
    "1. Simulate the daily return of a stock using a normal distribution with a given mean and standard deviation.\n",
    "2. Implement a pseudo-random number generator (PRNG) to generate these stock returns.\n",
    "3. Compare the output with a quasi-random number generator (QRNG) using a Sobol sequence.\n"
   ]
  },
  {
   "cell_type": "markdown",
   "metadata": {},
   "source": [
    "\n",
    "### Step 2: Monte Carlo Simulation for Stock Price Evolution\n",
    "\n",
    "1. Simulate stock price paths using the Geometric Brownian Motion (GBM) model:\n",
    "\n",
    "   \n",
    "   $$S_t = S_0 \\exp\\left( (\\mu - \\frac{\\sigma^2}{2}) t + \\sigma W_t \\right)$$\n",
    "   \n",
    "\n",
    "   where \\( W_t \\) is a Wiener process.\n",
    "\n",
    "2. Generate multiple stock price paths using both PRNG and QRNG methods.\n",
    "3. Visualize the simulated stock price paths.\n",
    "\n",
    "\n"
   ]
  },
  {
   "cell_type": "markdown",
   "metadata": {},
   "source": [
    "### Step 3: Estimating Value at Risk (VaR)\n",
    "\n",
    "1. Compute portfolio returns from the simulated stock prices.\n",
    "2. Estimate the 95% and 99% VaR using both historical simulation and Monte Carlo methods.\n",
    "3. Implement antithetic variance reduction to improve estimation accuracy.\n",
    "4. Compare VaR estimates using pseudo-random and quasi-random methods.\n",
    "\n"
   ]
  },
  {
   "cell_type": "markdown",
   "metadata": {},
   "source": [
    "### Step 4: Taylor Series Approximation for Risk Adjustment\n",
    "\n",
    "1. Use a second-order Taylor series expansion to approximate the portfolio's risk exposure.\n",
    "2. Analyze the effect of approximation on risk estimation.\n",
    "3. Compare results with the direct computation approach.\n",
    "\n"
   ]
  },
  {
   "cell_type": "markdown",
   "metadata": {},
   "source": [
    "### Step 5: Convergence Analysis and Final Report\n",
    "\n",
    "1. Study the convergence behavior of Monte Carlo estimates by increasing the number of simulations.\n",
    "2. Plot error vs. number of simulations to assess efficiency.\n",
    "3. Write a summary report discussing findings, methodology, and computational performance.\n",
    "\n"
   ]
  },
  {
   "cell_type": "markdown",
   "metadata": {},
   "source": [
    "## Rubric (Total: 100 Points)\n",
    "\n",
    "| Criteria | Excellent (20) | Good (15) | Fair (10) | Poor (5) |\n",
    "|----------|--------------|----------|---------|-------|\n",
    "| **Step 1: Data Initialization** | PRNG and QRNG correctly implemented and analyzed | Minor issues in implementation | Incomplete or incorrect implementation | Little to no effort |\n",
    "| **Step 2: Monte Carlo Stock Simulation** | GBM correctly simulated and visualized | Small inaccuracies | Major issues in simulation | No proper implementation |\n",
    "| **Step 3: VaR Estimation** | VaR correctly computed with all methods | Minor computational errors | Missing one key method | Poor implementation |\n",
    "| **Step 4: Taylor Series Approximation** | Taylor expansion correctly used and compared | Some approximation issues | Incorrect implementation | Not attempted |\n",
    "| **Step 5: Convergence Analysis & Report** | Convergence studied with clear insights | Minor inconsistencies in analysis | Weak discussion | No analysis provided |\n",
    "\n",
    "## Submission Guidelines\n",
    "\n",
    "- Submit a Jupyter Notebook (`.ipynb`) with well-commented code and visualizations.\n",
    "- Include a short report summarizing findings and observations.\n",
    "- Ensure reproducibility by setting random seeds where applicable.\n",
    "\n",
    "## Bonus Challenge\n",
    "\n",
    "- Implement a risk-adjusted portfolio optimization strategy using Monte Carlo results.\n",
    "- Compare performance with standard VaR estimation.\n",
    "\n",
    "This project provides a structured, hands-on experience in financial risk modeling using Monte Carlo simulations. It integrates multiple numerical techniques, ensuring practical application and computational efficiency."
   ]
  }
 ],
 "metadata": {
  "language_info": {
   "name": "python"
  }
 },
 "nbformat": 4,
 "nbformat_minor": 2
}
